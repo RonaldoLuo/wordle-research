{
 "cells": [
  {
   "cell_type": "code",
   "execution_count": 2,
   "metadata": {},
   "outputs": [],
   "source": [
    "import pandas as pd\n",
    "from collections import Counter"
   ]
  },
  {
   "cell_type": "code",
   "execution_count": 11,
   "metadata": {},
   "outputs": [],
   "source": [
    "df = pd.read_csv('data/merged_data.csv')"
   ]
  },
  {
   "cell_type": "code",
   "execution_count": null,
   "metadata": {},
   "outputs": [],
   "source": [
    "df.shape"
   ]
  },
  {
   "cell_type": "code",
   "execution_count": null,
   "metadata": {},
   "outputs": [],
   "source": []
  },
  {
   "cell_type": "code",
   "execution_count": 5,
   "metadata": {},
   "outputs": [],
   "source": [
    "def get_state(answer, guess):\n",
    "    count_letters = Counter(answer)\n",
    "    state = [0] * 5\n",
    "    # print(count_letters)\n",
    "\n",
    "    # This marks the greens\n",
    "    for index, letter in enumerate(guess):\n",
    "        # print(letter)\n",
    "        if letter in count_letters:\n",
    "            # print(f'letter: {letter}')\n",
    "            if letter == answer[index] and count_letters[letter] > 0:\n",
    "                state[index] = 2\n",
    "                count_letters[letter] -= 1\n",
    "\n",
    "    # This marks the yellows\n",
    "    for index, letter in enumerate(guess):\n",
    "        if letter in count_letters:\n",
    "            if count_letters[letter] > 0 and state[index] == 0:\n",
    "                state[index] = 1\n",
    "                count_letters[letter] -= 1\n",
    "\n",
    "    subset = [0] * 3\n",
    "\n",
    "    for s in state:\n",
    "        subset[2-s] += 1\n",
    "\n",
    "    return \"\".join(map(str, subset))"
   ]
  },
  {
   "cell_type": "code",
   "execution_count": null,
   "metadata": {},
   "outputs": [],
   "source": [
    "answer = 'banal'\n",
    "guess = 'daddy'\n",
    "\n",
    "print(get_state(answer, guess))"
   ]
  },
  {
   "cell_type": "code",
   "execution_count": null,
   "metadata": {},
   "outputs": [],
   "source": [
    "for index, row in df.iterrows():\n",
    "    # drop the row if the guess is not 5 letters\n",
    "    if len(eval(row['wordle_guesses'])) != len(eval(row['optimal'])) + 1:\n",
    "        df.drop(index, inplace=True)\n",
    "\n",
    "def check_if_guess_duplicate_as_answer(df):\n",
    "    for idx, row in df.iterrows():\n",
    "        if row['wordle_guesses'].count(row['wordle_answer']) != 1:\n",
    "            # delete current row\n",
    "            # print(row['entry_id'])\n",
    "            df.drop(idx, inplace=True)\n",
    "\n",
    "check_if_guess_duplicate_as_answer(df)\n"
   ]
  },
  {
   "cell_type": "code",
   "execution_count": null,
   "metadata": {},
   "outputs": [],
   "source": [
    "df.shape"
   ]
  },
  {
   "cell_type": "code",
   "execution_count": null,
   "metadata": {},
   "outputs": [],
   "source": [
    "# make a new data frame called state_data where we only keep the optimal and answer columns\n",
    "data_needed = df[['optimal', 'wordle_answer', 'wordle_guesses']].copy()\n",
    "data_needed.head()"
   ]
  },
  {
   "cell_type": "code",
   "execution_count": 50,
   "metadata": {},
   "outputs": [],
   "source": [
    "# make a test dataframe that is the first 10 rows of the data_needed dataframe\n",
    "test_data = data_needed.head(10)"
   ]
  },
  {
   "cell_type": "code",
   "execution_count": null,
   "metadata": {},
   "outputs": [],
   "source": [
    "# specify the data types\n",
    "# still some issues with \"['later', 'humor', 'salet', 'spill']\",4,humor\n",
    "from tqdm import tqdm\n",
    "state_data_final = pd.DataFrame(columns=['state', 'previous_guesses', 'optimal_guess', 'human_guess'])\n",
    "\n",
    "previous_dict = {}\n",
    "optimal_dict = {}\n",
    "human_dict = {}\n",
    "\n",
    "# iterate over the rows of the data frame\n",
    "for index, row in tqdm(data_needed.iterrows(), total=data_needed.shape[0]):\n",
    "    answer = row['wordle_answer']\n",
    "    guesses = eval(row['wordle_guesses'])\n",
    "    optimal = eval(row['optimal'])\n",
    "\n",
    "    for i in range(len(guesses) - 1):\n",
    "        state = get_state(answer, guesses[i])\n",
    "        try:\n",
    "            opt_guess = optimal[i][1][0]\n",
    "        except:\n",
    "            print(index)\n",
    "            print(optimal)\n",
    "            print(i)\n",
    "            print(guesses)\n",
    "        # print(opt_guess)\n",
    "        # check if the state is already in the state column\n",
    "        if state not in previous_dict:\n",
    "            previous_dict[state] = []\n",
    "            optimal_dict[state] = []\n",
    "            human_dict[state] = []\n",
    "\n",
    "        previous_dict[state].append(guesses[:i+1])\n",
    "        optimal_dict[state].append(opt_guess)\n",
    "        human_dict[state].append(guesses[i+1])\n",
    "        \n",
    "for state in previous_dict:\n",
    "    state_data_final = state_data_final.append({'state': state, 'previous_guesses': previous_dict[state], 'optimal_guess': optimal_dict[state], 'human_guess': human_dict[state]}, ignore_index=True)\n",
    "\n",
    "# state_data_final.to_csv('state_data.csv', index=False)\n",
    "        \n",
    "\n",
    "\n",
    "\n"
   ]
  },
  {
   "cell_type": "code",
   "execution_count": 16,
   "metadata": {},
   "outputs": [],
   "source": [
    "state_data_final.to_csv('data/state_data.csv', index=False)"
   ]
  }
 ],
 "metadata": {
  "kernelspec": {
   "display_name": "base",
   "language": "python",
   "name": "python3"
  },
  "language_info": {
   "codemirror_mode": {
    "name": "ipython",
    "version": 3
   },
   "file_extension": ".py",
   "mimetype": "text/x-python",
   "name": "python",
   "nbconvert_exporter": "python",
   "pygments_lexer": "ipython3",
   "version": "3.9.12"
  }
 },
 "nbformat": 4,
 "nbformat_minor": 2
}
