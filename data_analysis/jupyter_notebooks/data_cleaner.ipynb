{
 "cells": [
  {
   "cell_type": "code",
   "execution_count": null,
   "metadata": {},
   "outputs": [],
   "source": [
    "\"\"\"\n",
    "cleaning data\n",
    "removing unsolved games\n",
    "adding answers to games with missing answers\n",
    "scordle to wordle cuz ya\n",
    "removing bs from the main data like in the body column\n",
    "using good ahhhhh column names unlike the original data\n",
    "\"\"\""
   ]
  },
  {
   "cell_type": "code",
   "execution_count": 54,
   "metadata": {},
   "outputs": [],
   "source": [
    "import pandas as pd\n",
    "import re\n",
    "import os\n"
   ]
  },
  {
   "cell_type": "code",
   "execution_count": null,
   "metadata": {},
   "outputs": [],
   "source": [
    "df = pd.read_csv(r\"data_analysis\\data\\processed_wordle_data.csv\")\n",
    "answers_df = pd.read_csv(r\"data_analysis\\data\\answers.csv\")\n",
    "\n",
    "# print the 40,000 row\n",
    "print(df.iloc[40000])\n"
   ]
  },
  {
   "cell_type": "code",
   "execution_count": null,
   "metadata": {},
   "outputs": [],
   "source": [
    "# make sure all the wordle is scoredle\n",
    "df['body'] = df['body'].str.replace('scoredle', 'Wordle', case=False, regex=True)\n",
    "print(df.iloc[40000])\n"
   ]
  },
  {
   "cell_type": "code",
   "execution_count": 52,
   "metadata": {},
   "outputs": [],
   "source": [
    "new_df = pd.DataFrame()\n",
    "\n",
    "# Copy the specified columns from the original DataFrame\n",
    "new_df[\"wordle_guesses\"] = df[\"wordle_guesses\"] if \"wordle_guesses\" in df else \"unknown\"\n",
    "new_df[\"num_guesses\"] = df[\"num_guesses\"] if \"num_guesses\" in df else \"unknown\"\n",
    "new_df[\"wordle_answer\"] = df[\"wordle_answer\"] if \"wordle_answer\" in df else \"unknown\"\n",
    "new_df[\"author\"] = df[\"author\"] if \"author\" in df else \"unknown\"\n",
    "\n",
    "# Define regex patterns\n",
    "title_pattern = r'^(Wordle)\\s+(\\d+)'\n",
    "asterisk_pattern = lambda wordle_id: rf'{wordle_id}.{{0,15}}\\*'\n",
    "\n",
    "\n",
    "# Function to extract Wordle title, ID, and hard mode status\n",
    "def extract_wordle_info(body_text):\n",
    "    # Default values\n",
    "    wordle_title = \"unknown\"\n",
    "    wordle_id = \"unknown\"\n",
    "    hard_mode = False\n",
    "    \n",
    "    # Extract title and wordle_id\n",
    "    match = re.search(title_pattern, body_text, re.MULTILINE)\n",
    "    if match:\n",
    "        wordle_title = match.group(1)\n",
    "        wordle_id = match.group(2)\n",
    "    \n",
    "    # Check for hard mode (asterisk pattern)\n",
    "    if wordle_id != \"unknown\":\n",
    "        if re.search(asterisk_pattern(wordle_id), body_text):\n",
    "            hard_mode = True\n",
    "    \n",
    "    return wordle_title, wordle_id, hard_mode\n",
    "\n",
    "def get_wordle_answer(row):\n",
    "    if row[\"wordle_answer\"] != \"unknown\":\n",
    "        return row[\"wordle_answer\"]\n",
    "    elif row[\"wordle_guesses\"] != \"unknown\":\n",
    "        # Search in answers_df for the row with the same id\n",
    "        match = answers_df[answers_df[\"id\"] == row[\"wordle_id\"]]\n",
    "        if not match.empty:\n",
    "            return match.iloc[0][\"word\"].lower()\n",
    "        else:\n",
    "            return \"unknown\"\n",
    "    else:\n",
    "        return \"unknown\""
   ]
  },
  {
   "cell_type": "code",
   "execution_count": null,
   "metadata": {},
   "outputs": [],
   "source": [
    "new_df = pd.DataFrame()\n",
    "\n",
    "# Copy the specified columns from the original DataFrame\n",
    "new_df[\"entry_id\"] = range(1, len(df) + 1)\n",
    "new_df[\"author\"] = df[\"author\"] if \"author\" in df else \"unknown\"\n",
    "new_df[\"wordle_guesses\"] = df[\"wordle_guesses\"] if \"wordle_guesses\" in df else \"unknown\"\n",
    "new_df[\"num_guesses\"] = df[\"num_guesses\"] if \"num_guesses\" in df else \"unknown\"\n",
    "new_df[\"wordle_answer\"] = df[\"wordle_answer\"] if \"wordle_answer\" in df else \"unknown\"\n",
    "\n",
    "# Define regex patterns\n",
    "title_pattern = r'^(Wordle)\\s+(\\d+)'\n",
    "asterisk_pattern = lambda wordle_id: rf'{wordle_id}.{{0,15}}\\*'\n",
    "\n",
    "# Apply the function to each row of the original DataFrame and convert the result to a list of tuples\n",
    "extracted_info = df[\"body\"].apply(extract_wordle_info)\n",
    "\n",
    "# Unpack the list of tuples into separate columns\n",
    "new_df[\"wordle_title\"], new_df[\"wordle_id\"], new_df[\"hard_mode\"] = zip(*extracted_info)\n",
    "\n",
    "# Convert hard_mode to boolean strings\n",
    "new_df[\"hard_mode\"] = new_df[\"hard_mode\"].apply(lambda x: \"true\" if x else \"false\")\n",
    "\n",
    "# Get answers from answers_df\n",
    "new_df[\"wordle_answer\"] = new_df.apply(get_wordle_answer, axis=1)\n",
    "\n",
    "# delete unknown id and unsolved wordles\n",
    "new_df = new_df[new_df['wordle_id'] != \"unknown\"]\n",
    "new_df = new_df[new_df['wordle_answer'] != \"DNF\"]\n",
    "\n",
    "# Save the new DataFrame to CSV (optional)\n",
    "new_df.to_csv('new_wordle_data.csv', index=False)\n",
    "\n",
    "# Display the new DataFrame\n",
    "print(new_df)"
   ]
  }
 ],
 "metadata": {
  "kernelspec": {
   "display_name": "wordle",
   "language": "python",
   "name": "python3"
  },
  "language_info": {
   "codemirror_mode": {
    "name": "ipython",
    "version": 3
   },
   "file_extension": ".py",
   "mimetype": "text/x-python",
   "name": "python",
   "nbconvert_exporter": "python",
   "pygments_lexer": "ipython3",
   "version": "3.12.6"
  }
 },
 "nbformat": 4,
 "nbformat_minor": 2
}
