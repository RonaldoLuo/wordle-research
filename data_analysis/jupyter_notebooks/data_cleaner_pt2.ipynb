{
 "cells": [
  {
   "cell_type": "code",
   "execution_count": null,
   "metadata": {},
   "outputs": [],
   "source": [
    "\"\"\"\n",
    "WE DISCOVERED THAT THERE IS BAD DATA STILL LIKE\n",
    "REPEATED GUESSES WHEN THE GUESS IS ACTUALLY THE RIGHT ONE LIKE WHY DIDNT THE GAME END THEN BOII?????\n",
    "ANYWAYS SO WE FIXING DAT HERE\n",
    "\"\"\""
   ]
  },
  {
   "cell_type": "code",
   "execution_count": null,
   "metadata": {},
   "outputs": [],
   "source": [
    "import pandas as pd\n",
    "import ast\n",
    "\n",
    "df = pd.read_csv(r\"C:\\Users\\adamk\\Documents\\wordle_research\\wordle-research\\data_analysis\\data\\merged_data.csv\")\n",
    "# create new_df as a copy of df\n",
    "new_df = df.copy()\n",
    "\n",
    "len(new_df)"
   ]
  },
  {
   "cell_type": "code",
   "execution_count": 2,
   "metadata": {},
   "outputs": [],
   "source": [
    "def check_if_guess_duplicate_as_answer(df):\n",
    "    for idx, row in df.iterrows():\n",
    "        if row['wordle_guesses'].count(row['wordle_answer']) != 1:\n",
    "            # delete current row\n",
    "            print(row['entry_id'])\n",
    "            df.drop(idx, inplace=True)"
   ]
  },
  {
   "cell_type": "code",
   "execution_count": null,
   "metadata": {},
   "outputs": [],
   "source": [
    "check_if_guess_duplicate_as_answer(new_df)\n",
    "len(new_df)\n",
    "#SAVE\n",
    "#new_df.to_csv(r\"C:\\Users\\adamk\\Documents\\wordle_research\\wordle-research\\data_analysis\\data\\merged_data_no_duplicates.csv\", index=False) \n"
   ]
  },
  {
   "cell_type": "code",
   "execution_count": 67,
   "metadata": {},
   "outputs": [],
   "source": [
    "# create a function which take in two df, answers and df and if cross references if wordle answer in the df == wordle answer in the guesses if not we drop that row in df\n",
    "def rm_ppl_who_lie(df, answers_df):\n",
    "    errors = []\n",
    "    for idx, row in df.iterrows():\n",
    "        try:\n",
    "            corresponding_word = answers_df.loc[answers_df['id'] == str(row['wordle_id']), 'word'].values[0].lower()\n",
    "        except:\n",
    "            if row['wordle_id'] > 1195:\n",
    "                df.drop(idx, inplace=True)\n",
    "                print(row['entry_id'])\n",
    "            else:\n",
    "                errors.append((row['entry_id'], row['wordle_id']))\n",
    "            continue\n",
    "        if row['wordle_answer'].lower() != corresponding_word:\n",
    "            # delete current row\n",
    "            print(row['entry_id'])\n",
    "            df.drop(idx, inplace=True)\n",
    "    print(\"got errors when going over\", errors)"
   ]
  },
  {
   "cell_type": "code",
   "execution_count": null,
   "metadata": {},
   "outputs": [],
   "source": [
    "answers_df = pd.read_csv(r\"C:\\Users\\adamk\\Documents\\wordle_research\\wordle-research\\data_analysis\\data\\answers.csv\")\n",
    "# print column word when id column is 13\n",
    "rm_ppl_who_lie(new_df, answers_df)\n",
    "print(\"note that there is are two values for wrodle # 284 in the ans so if those are the onyl entries that had an error ignore em\")\n",
    "print(len(new_df))"
   ]
  },
  {
   "cell_type": "code",
   "execution_count": 69,
   "metadata": {},
   "outputs": [],
   "source": [
    "#new_df.to_csv(r\"C:\\Users\\adamk\\Documents\\wordle_research\\wordle-research\\data_analysis\\data\\merged_data_no_duplicates.csv\", index=False) \n"
   ]
  }
 ],
 "metadata": {
  "kernelspec": {
   "display_name": "wordle",
   "language": "python",
   "name": "python3"
  },
  "language_info": {
   "codemirror_mode": {
    "name": "ipython",
    "version": 3
   },
   "file_extension": ".py",
   "mimetype": "text/x-python",
   "name": "python",
   "nbconvert_exporter": "python",
   "pygments_lexer": "ipython3",
   "version": "3.12.6"
  }
 },
 "nbformat": 4,
 "nbformat_minor": 2
}
