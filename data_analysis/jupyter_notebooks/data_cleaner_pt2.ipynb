{
 "cells": [
  {
   "cell_type": "code",
   "execution_count": 63,
   "metadata": {},
   "outputs": [
    {
     "data": {
      "text/plain": [
       "'\\nWE DISCOVERED THAT THERE IS BAD DATA STILL LIKE\\nREPEATED GUESSES WHEN THE GUESS IS ACTUALLY THE RIGHT ONE LIKE WHY DIDNT THE GAME END THEN BOII?????\\nANYWAYS SO WE FIXING DAT HERE\\n'"
      ]
     },
     "execution_count": 63,
     "metadata": {},
     "output_type": "execute_result"
    }
   ],
   "source": [
    "\"\"\"\n",
    "WE DISCOVERED THAT THERE IS BAD DATA STILL LIKE\n",
    "REPEATED GUESSES WHEN THE GUESS IS ACTUALLY THE RIGHT ONE LIKE WHY DIDNT THE GAME END THEN BOII?????\n",
    "ANYWAYS SO WE FIXING DAT HERE\n",
    "\"\"\""
   ]
  },
  {
   "cell_type": "code",
   "execution_count": 64,
   "metadata": {},
   "outputs": [
    {
     "data": {
      "text/plain": [
       "65271"
      ]
     },
     "execution_count": 64,
     "metadata": {},
     "output_type": "execute_result"
    }
   ],
   "source": [
    "import pandas as pd\n",
    "import ast\n",
    "\n",
    "df = pd.read_csv(r\"C:\\Users\\adamk\\Documents\\wordle_research\\wordle-research\\data_analysis\\data\\merged_data.csv\")\n",
    "# create new_df as a copy of df\n",
    "new_df = df.copy()\n",
    "\n",
    "len(new_df)"
   ]
  },
  {
   "cell_type": "code",
   "execution_count": 65,
   "metadata": {},
   "outputs": [],
   "source": [
    "def check_if_guess_duplicate_as_answer(df):\n",
    "    for idx, row in df.iterrows():\n",
    "        if row['wordle_guesses'].count(row['wordle_answer']) != 1:\n",
    "            # delete current row\n",
    "            print(row['entry_id'])\n",
    "            df.drop(idx, inplace=True)"
   ]
  },
  {
   "cell_type": "code",
   "execution_count": 66,
   "metadata": {},
   "outputs": [
    {
     "data": {
      "text/plain": [
       "65271"
      ]
     },
     "execution_count": 66,
     "metadata": {},
     "output_type": "execute_result"
    }
   ],
   "source": [
    "check_if_guess_duplicate_as_answer(new_df)\n",
    "len(new_df)\n",
    "#SAVE\n",
    "#new_df.to_csv(r\"C:\\Users\\adamk\\Documents\\wordle_research\\wordle-research\\data_analysis\\data\\merged_data_no_duplicates.csv\", index=False) \n"
   ]
  },
  {
   "cell_type": "code",
   "execution_count": 67,
   "metadata": {},
   "outputs": [],
   "source": [
    "# create a function which take in two df, answers and df and if cross references if wordle answer in the df == wordle answer in the guesses if not we drop that row in df\n",
    "def rm_ppl_who_lie(df, answers_df):\n",
    "    errors = []\n",
    "    for idx, row in df.iterrows():\n",
    "        try:\n",
    "            corresponding_word = answers_df.loc[answers_df['id'] == str(row['wordle_id']), 'word'].values[0].lower()\n",
    "        except:\n",
    "            if row['wordle_id'] > 1195:\n",
    "                df.drop(idx, inplace=True)\n",
    "                print(row['entry_id'])\n",
    "            else:\n",
    "                errors.append((row['entry_id'], row['wordle_id']))\n",
    "            continue\n",
    "        if row['wordle_answer'].lower() != corresponding_word:\n",
    "            # delete current row\n",
    "            print(row['entry_id'])\n",
    "            df.drop(idx, inplace=True)\n",
    "    print(\"got errors when going over\", errors)"
   ]
  },
  {
   "cell_type": "code",
   "execution_count": 68,
   "metadata": {},
   "outputs": [
    {
     "name": "stdout",
     "output_type": "stream",
     "text": [
      "got errors when going over [(21461, 284), (21464, 284), (21482, 284), (21488, 284), (21489, 284), (21493, 284), (21494, 284), (21496, 284), (21509, 284), (21515, 284), (21518, 284), (21524, 284), (21525, 284), (21537, 284), (21541, 284), (21542, 284), (21546, 284), (21547, 284), (21549, 284), (21550, 284), (21552, 284), (21553, 284), (21555, 284), (21558, 284), (21559, 284), (21561, 284), (21562, 284), (21564, 284), (21565, 284), (21567, 284), (21569, 284), (21572, 284), (21574, 284), (21575, 284), (21579, 284), (21581, 284), (21582, 284), (21583, 284), (21585, 284), (21588, 284), (21590, 284), (21597, 284), (21599, 284), (21601, 284), (21603, 284), (21604, 284), (21605, 284), (21606, 284), (21609, 284), (21611, 284), (21612, 284), (21615, 284), (21616, 284), (21617, 284), (21619, 284), (21620, 284), (21622, 284), (21623, 284), (21624, 284), (21625, 284), (21626, 284), (21628, 284), (21629, 284), (21630, 284), (21631, 284), (21632, 284), (21633, 284), (21634, 284), (21635, 284), (21637, 284), (21638, 284), (21639, 284), (21640, 284), (21642, 284), (21644, 284), (21645, 284), (21647, 284), (21648, 284), (21649, 284), (21650, 284), (21651, 284), (21653, 284), (21654, 284), (21656, 284), (21658, 284), (21659, 284), (21660, 284), (21662, 284), (21663, 284), (21664, 284), (21665, 284), (21666, 284), (21667, 284), (21668, 284), (21669, 284), (21670, 284), (21671, 284), (21672, 284), (21673, 284), (21674, 284), (21675, 284), (21676, 284), (21677, 284), (21678, 284), (21679, 284), (21680, 284), (21681, 284), (21682, 284), (21683, 284), (21684, 284), (21685, 284), (21686, 284), (21687, 284), (21688, 284), (21689, 284), (21690, 284), (21691, 284), (21692, 284), (21694, 284), (21696, 284), (21697, 284), (21698, 284), (21699, 284), (21700, 284), (21701, 284), (21702, 284), (21704, 284), (21705, 284), (21706, 284), (21707, 284), (21708, 284), (21710, 284), (21711, 284), (21713, 284), (21714, 284), (21715, 284), (21716, 284), (21717, 284), (21718, 284), (21720, 284), (21722, 284), (21723, 284), (21724, 284), (21725, 284), (21726, 284), (21727, 284), (21728, 284), (21729, 284), (21730, 284), (21731, 284), (21732, 284), (21733, 284), (21734, 284), (21735, 284), (21736, 284), (21737, 284), (21738, 284), (21739, 284), (21740, 284), (21741, 284), (21742, 284), (21743, 284), (21744, 284), (21746, 284), (21747, 284), (21748, 284), (21749, 284), (21750, 284), (21751, 284), (21752, 284), (21753, 284), (21754, 284), (21755, 284), (21757, 284), (21758, 284), (21759, 284), (21760, 284), (21761, 284), (21762, 284), (21763, 284), (21764, 284), (21765, 284), (21767, 284), (21768, 284), (21769, 284), (21770, 284), (21771, 284), (21772, 284), (21773, 284), (21774, 284), (21775, 284), (21776, 284), (21777, 284), (21778, 284), (21779, 284), (21780, 284), (21781, 284), (21782, 284), (21783, 284), (21784, 284), (21785, 284), (21786, 284), (21788, 284), (21789, 284), (21791, 284), (21792, 284), (21793, 284), (21794, 284), (21795, 284), (21796, 284), (21798, 284), (21799, 284), (21800, 284), (21801, 284), (21802, 284), (21804, 284), (21805, 284), (21806, 284), (21807, 284), (21808, 284), (21809, 284), (21810, 284), (21811, 284), (21812, 284), (21813, 284), (21814, 284), (21816, 284), (21817, 284), (21818, 284), (21822, 284), (21823, 284), (21824, 284), (21825, 284), (21827, 284), (21829, 284), (21830, 284), (21831, 284), (21833, 284), (21834, 284), (21835, 284), (21836, 284), (21837, 284), (21838, 284), (21839, 284), (21843, 284), (21847, 284), (21849, 284), (21850, 284), (21851, 284), (21852, 284), (21853, 284), (21854, 284), (21855, 284), (21857, 284), (21859, 284), (21860, 284), (21861, 284), (21862, 284), (21863, 284), (21865, 284), (21866, 284), (21868, 284), (21870, 284), (21872, 284), (21873, 284), (21876, 284), (21877, 284), (21879, 284), (21881, 284), (21883, 284), (21884, 284), (21885, 284), (21886, 284), (21888, 284), (21890, 284), (21892, 284), (21894, 284), (21895, 284), (21897, 284), (21905, 284), (21907, 284), (21911, 284), (21915, 284), (21916, 284), (21921, 284), (21924, 284), (21925, 284), (21934, 284), (21937, 284), (21962, 284), (21963, 284), (21967, 284), (21970, 284), (21981, 284), (21988, 284), (21992, 284), (21993, 284), (22021, 284)]\n",
      "note that there is are two values for wrodle # 284 in the ans so if those are the onyl entries that had an error ignore em\n",
      "65271\n"
     ]
    }
   ],
   "source": [
    "answers_df = pd.read_csv(r\"C:\\Users\\adamk\\Documents\\wordle_research\\wordle-research\\data_analysis\\data\\answers.csv\")\n",
    "# print column word when id column is 13\n",
    "rm_ppl_who_lie(new_df, answers_df)\n",
    "print(\"note that there is are two values for wrodle # 284 in the ans so if those are the onyl entries that had an error ignore em\")\n",
    "print(len(new_df))"
   ]
  },
  {
   "cell_type": "code",
   "execution_count": 69,
   "metadata": {},
   "outputs": [],
   "source": [
    "#new_df.to_csv(r\"C:\\Users\\adamk\\Documents\\wordle_research\\wordle-research\\data_analysis\\data\\merged_data_no_duplicates.csv\", index=False) \n"
   ]
  }
 ],
 "metadata": {
  "kernelspec": {
   "display_name": "wordle",
   "language": "python",
   "name": "python3"
  },
  "language_info": {
   "codemirror_mode": {
    "name": "ipython",
    "version": 3
   },
   "file_extension": ".py",
   "mimetype": "text/x-python",
   "name": "python",
   "nbconvert_exporter": "python",
   "pygments_lexer": "ipython3",
   "version": "3.12.6"
  }
 },
 "nbformat": 4,
 "nbformat_minor": 2
}
