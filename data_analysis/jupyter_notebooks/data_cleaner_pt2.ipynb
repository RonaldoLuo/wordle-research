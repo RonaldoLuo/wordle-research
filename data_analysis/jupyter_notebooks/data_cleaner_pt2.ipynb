{
 "cells": [
  {
   "cell_type": "code",
   "execution_count": null,
   "metadata": {},
   "outputs": [],
   "source": [
    "\"\"\"\n",
    "WE DISCOVERED THAT THERE IS BAD DATA STILL LIKE\n",
    "REPEATED GUESSES WHEN THE GUESS IS ACTUALLY THE RIGHT ONE LIKE WHY DIDNT THE GAME END THEN BOII?????\n",
    "ANYWAYS SO WE FIXING DAT HERE\n",
    "\"\"\""
   ]
  },
  {
   "cell_type": "code",
   "execution_count": 73,
   "metadata": {},
   "outputs": [
    {
     "data": {
      "text/plain": [
       "75610"
      ]
     },
     "execution_count": 73,
     "metadata": {},
     "output_type": "execute_result"
    }
   ],
   "source": [
    "import pandas as pd\n",
    "\n",
    "df = pd.read_csv(r\"C:\\Users\\adamk\\Documents\\wordle_research\\wordle-research\\data_analysis\\data\\merged_data.csv\")\n",
    "# create new_df as a copy of df\n",
    "new_df = df.copy()\n",
    "\n",
    "len(new_df)"
   ]
  },
  {
   "cell_type": "code",
   "execution_count": 74,
   "metadata": {},
   "outputs": [],
   "source": [
    "def check_if_guess_duplicate_as_answer(df):\n",
    "    for idx, row in df.iterrows():\n",
    "        if row['wordle_guesses'].values[0].count(row['wordle_answer'].values[0]) != 1:\n",
    "            # delete current row\n",
    "            print(f\"deleting row {idx}\")\n",
    "            df.drop(idx, inplace=True)"
   ]
  },
  {
   "cell_type": "code",
   "execution_count": 79,
   "metadata": {},
   "outputs": [],
   "source": [
    "def check_if_guess_duplicate_as_answer(df):\n",
    "    for idx, row in df.iterrows():\n",
    "        if row['wordle_guesses'].count(row['wordle_answer']) != 1:\n",
    "            # delete current row\n",
    "            print(row['entry_id'])\n",
    "            df.drop(idx, inplace=True)\n",
    "\n",
    "check_if_guess_duplicate_as_answer(new_df)\n",
    "len(new_df)\n",
    "#SAVE\n",
    "new_df.to_csv(r\"C:\\Users\\adamk\\Documents\\wordle_research\\wordle-research\\data_analysis\\data\\merged_data_no_duplicates.csv\", index=False) "
   ]
  },
  {
   "cell_type": "code",
   "execution_count": 78,
   "metadata": {},
   "outputs": [
    {
     "data": {
      "text/plain": [
       "75093"
      ]
     },
     "execution_count": 78,
     "metadata": {},
     "output_type": "execute_result"
    }
   ],
   "source": [
    "len(new_df)\n"
   ]
  },
  {
   "cell_type": "code",
   "execution_count": 59,
   "metadata": {},
   "outputs": [
    {
     "data": {
      "text/plain": [
       "(75610, 9)"
      ]
     },
     "execution_count": 59,
     "metadata": {},
     "output_type": "execute_result"
    }
   ],
   "source": []
  }
 ],
 "metadata": {
  "kernelspec": {
   "display_name": "wordle",
   "language": "python",
   "name": "python3"
  },
  "language_info": {
   "codemirror_mode": {
    "name": "ipython",
    "version": 3
   },
   "file_extension": ".py",
   "mimetype": "text/x-python",
   "name": "python",
   "nbconvert_exporter": "python",
   "pygments_lexer": "ipython3",
   "version": "3.12.6"
  }
 },
 "nbformat": 4,
 "nbformat_minor": 2
}
