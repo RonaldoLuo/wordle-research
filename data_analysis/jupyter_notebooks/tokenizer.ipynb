{
 "cells": [
  {
   "cell_type": "code",
   "execution_count": null,
   "metadata": {},
   "outputs": [],
   "source": [
    "import pandas as pd\n",
    "import matplotlib.pyplot as plt\n",
    "from nltk.tokenize import SyllableTokenizer\n",
    "import ast\n",
    "from statistics import mean\n",
    "import numpy as np\n",
    "import os\n",
    "\n",
    "# make sure the data file is correct directory\n",
    "data_file = r'data_analysis\\data\\data_1.csv'"
   ]
  },
  {
   "cell_type": "code",
   "execution_count": 9,
   "metadata": {},
   "outputs": [],
   "source": [
    "def syllable_tokenizer(word):\n",
    "    tokenizer = SyllableTokenizer()\n",
    "    return tokenizer.tokenize(word)\n",
    "\n",
    "def common_syllables(word1, word2):\n",
    "    syllables1 = set(syllable_tokenizer(word1))\n",
    "    syllables2 = set(syllable_tokenizer(word2))\n",
    "    return len(syllables1.intersection(syllables2))\n",
    "\n",
    "# Function to calculate common syllables for a game's guesses\n",
    "def analyze_game_guesses(guesses):\n",
    "    common_syllables_list = []\n",
    "    for i in range(1, len(guesses)):\n",
    "        common = common_syllables(guesses[i-1], guesses[i])\n",
    "        common_syllables_list.append(common)\n",
    "    return common_syllables_list"
   ]
  },
  {
   "cell_type": "code",
   "execution_count": null,
   "metadata": {},
   "outputs": [],
   "source": [
    "# Load the data\n",
    "df = pd.read_csv(data_file)\n",
    "\n",
    "# Convert string representation of list to actual list\n",
    "df['wordle_guesses'] = df['wordle_guesses'].apply(ast.literal_eval)\n",
    "\n",
    "# Apply the analysis to each game\n",
    "df['guess_syllable_similarities'] = df['wordle_guesses'].apply(analyze_game_guesses)\n",
    "\n",
    "# Calculate average syllable similarity for each game\n",
    "df['avg_syllable_similarity'] = df['guess_syllable_similarities'].apply(lambda x: mean(x) if x else 0)\n",
    "\n",
    "# Create the plot\n",
    "plt.figure(figsize=(12, 6))\n",
    "plt.scatter(df['entry_id'], df['avg_syllable_similarity'], alpha=0.5)\n",
    "plt.title('Average Syllable Similarity Between Consecutive Guesses in Wordle Games')\n",
    "plt.xlabel('Wordle Game ID')\n",
    "plt.ylabel('Average Number of Common Syllables')\n",
    "plt.grid(True, alpha=0.3)\n",
    "\n",
    "# Add a trend line\n",
    "z = np.polyfit(df['entry_id'], df['avg_syllable_similarity'], 1)\n",
    "p = np.poly1d(z)\n",
    "plt.plot(df['entry_id'], p(df['entry_id']), \"r--\", alpha=0.8)\n",
    "\n",
    "# Add some statistics as text\n",
    "overall_avg = df['avg_syllable_similarity'].mean()\n",
    "max_avg = df['avg_syllable_similarity'].max()\n",
    "min_avg = df['avg_syllable_similarity'].min()\n",
    "\n",
    "stats_text = f'Overall Average: {overall_avg:.2f}\\nMax Average: {max_avg:.2f}\\nMin Average: {min_avg:.2f}'\n",
    "plt.text(0.02, 0.98, stats_text, transform=plt.gca().transAxes, verticalalignment='top', fontsize=10)\n",
    "# Save the plot\n",
    "plt.savefig('wordle_guess_syllable_analysis.png')\n",
    "plt.show()\n",
    "plt.close()"
   ]
  },
  {
   "cell_type": "code",
   "execution_count": null,
   "metadata": {},
   "outputs": [],
   "source": [
    "\n",
    "# Print some additional statistics\n",
    "print(f\"Total games analyzed: {len(df)}\")\n",
    "print(f\"Overall average syllable similarity: {overall_avg:.2f}\")\n",
    "\n",
    "# Find games with highest and lowest average syllable similarity\n",
    "highest_similarity = df.loc[df['avg_syllable_similarity'] == max_avg].iloc[0]\n",
    "lowest_similarity = df.loc[df['avg_syllable_similarity'] == min_avg].iloc[0]\n",
    "\n",
    "print(\"\\nGame with highest average syllable similarity:\")\n",
    "print(f\"Wordle {highest_similarity['entry_id']}: {highest_similarity['wordle_guesses']}\")\n",
    "print(f\"Answer: {highest_similarity['wordle_answer']}\")\n",
    "print(f\"Average similarity: {highest_similarity['avg_syllable_similarity']:.2f}\")\n",
    "\n",
    "print(\"\\nGame with lowest average syllable similarity:\")\n",
    "print(f\"Wordle {lowest_similarity['entry_id']}: {lowest_similarity['wordle_guesses']}\")\n",
    "print(f\"Answer: {lowest_similarity['wordle_answer']}\")\n",
    "print(f\"Average similarity: {lowest_similarity['avg_syllable_similarity']:.2f}\")\n",
    "\n",
    "# Calculate and print overall distribution of syllable similarities\n",
    "all_similarities = [sim for sims in df['guess_syllable_similarities'] for sim in sims]\n",
    "similarity_counts = pd.Series(all_similarities).value_counts().sort_index()\n",
    "\n",
    "print(\"\\nOverall distribution of syllable similarities:\")\n",
    "for similarity, count in similarity_counts.items():\n",
    "    print(f\"{similarity} common syllables: {count} occurrences\")"
   ]
  }
 ],
 "metadata": {
  "kernelspec": {
   "display_name": "wordle",
   "language": "python",
   "name": "python3"
  },
  "language_info": {
   "codemirror_mode": {
    "name": "ipython",
    "version": 3
   },
   "file_extension": ".py",
   "mimetype": "text/x-python",
   "name": "python",
   "nbconvert_exporter": "python",
   "pygments_lexer": "ipython3",
   "version": "3.12.6"
  }
 },
 "nbformat": 4,
 "nbformat_minor": 2
}
