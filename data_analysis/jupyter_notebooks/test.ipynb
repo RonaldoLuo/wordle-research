{
 "cells": [
  {
   "cell_type": "code",
   "execution_count": 18,
   "metadata": {},
   "outputs": [
    {
     "name": "stdout",
     "output_type": "stream",
     "text": [
      "(0.63364685, 0.3663531541824341)\n",
      "(1.0, 0.0)\n",
      "0\n"
     ]
    }
   ],
   "source": [
    "import gensim.downloader as api\n",
    "from numpy.linalg import norm\n",
    "import numpy as np\n",
    "\n",
    "# Load the pre-trained GloVe model (300 dimensions, trained on Wikipedia + Gigaword)\n",
    "model = api.load('glove-wiki-gigaword-300')\n",
    "\n",
    "# Function to calculate cosine similarity between two vectors\n",
    "def cosine_similarity(vec1, vec2):\n",
    "    return np.dot(vec1, vec2) / (norm(vec1) * norm(vec2))\n",
    "\n",
    "# Function to compute distance between two words using GloVe\n",
    "def monarch(word1, word2, model):\n",
    "    if word1 in model and word2 in model:\n",
    "        vec1 = model[word1]\n",
    "        vec2 = model[word2]\n",
    "        \n",
    "        # Calculate Cosine Similarity\n",
    "        similarity = cosine_similarity(vec1, vec2)\n",
    "        distance = 1 - similarity  # Cosine distance\n",
    "        \n",
    "        return similarity, distance\n",
    "    return 0\n",
    "\n",
    "# Example words\n",
    "word1 = 'king'\n",
    "word2 = 'queen'\n",
    "\n",
    "# Compute GloVe similarity and distance\n",
    "#similarity, distance = glove_distance(word1, word2, model)\n",
    "#print(f\"Cosine Similarity: {similarity}\")\n",
    "#print(f\"Cosine Distance: {distance}\")\n",
    "print(glove_distance(word1, word2, model))\n",
    "print(glove_distance('king', 'king', model))\n",
    "print(glove_distance('king', 'desk', model))"
   ]
  },
  {
   "cell_type": "code",
   "execution_count": 19,
   "metadata": {},
   "outputs": [
    {
     "name": "stdout",
     "output_type": "stream",
     "text": [
      "(0.58996207, 0.41003793478012085)\n",
      "(0.5093752, 0.4906247854232788)\n"
     ]
    }
   ],
   "source": [
    "print(glove_distance('king', 'monarch', model))\n",
    "print(glove_distance('hot', 'cold', model))"
   ]
  },
  {
   "cell_type": "code",
   "execution_count": 16,
   "metadata": {},
   "outputs": [
    {
     "name": "stdout",
     "output_type": "stream",
     "text": [
      "{'Path Similarity': 1.0, 'Wu-Palmer Similarity': 1.0, 'Leacock-Chodorow Similarity': 3.6375861597263857}\n"
     ]
    },
    {
     "name": "stderr",
     "output_type": "stream",
     "text": [
      "[nltk_data] Downloading package wordnet to\n",
      "[nltk_data]     C:\\Users\\adamk\\AppData\\Roaming\\nltk_data...\n",
      "[nltk_data]   Package wordnet is already up-to-date!\n",
      "[nltk_data] Downloading package omw-1.4 to\n",
      "[nltk_data]     C:\\Users\\adamk\\AppData\\Roaming\\nltk_data...\n",
      "[nltk_data]   Package omw-1.4 is already up-to-date!\n",
      "[nltk_data] Downloading package punkt to\n",
      "[nltk_data]     C:\\Users\\adamk\\AppData\\Roaming\\nltk_data...\n",
      "[nltk_data]   Package punkt is already up-to-date!\n"
     ]
    }
   ],
   "source": [
    "import nltk\n",
    "nltk.download('wordnet')\n",
    "nltk.download('omw-1.4')  # Optional: for multilingual WordNet data\n",
    "nltk.download('punkt')     # Optional: for tokenization\n",
    "\n",
    "from nltk.corpus import wordnet as wn\n",
    "\n",
    "# Function to get the synsets of the word\n",
    "def get_synsets(word):\n",
    "    return wn.synsets(word)\n",
    "\n",
    "# Function to calculate semantic distance using different similarity metrics\n",
    "def calculate_semantic_similarity(word1, word2):\n",
    "    synsets1 = get_synsets(word1)\n",
    "    synsets2 = get_synsets(word2)\n",
    "    \n",
    "    # Ensure words have synsets (not all words exist in WordNet)\n",
    "    if not synsets1 or not synsets2:\n",
    "        return None\n",
    "    \n",
    "    # Initialize maximum similarity\n",
    "    max_path_sim = 0\n",
    "    max_wup_sim = 0\n",
    "    max_lch_sim = 0\n",
    "    \n",
    "    # Iterate through all synset pairs and calculate the similarity\n",
    "    for synset1 in synsets1:\n",
    "        for synset2 in synsets2:\n",
    "            path_sim = synset1.path_similarity(synset2)\n",
    "            wup_sim = synset1.wup_similarity(synset2)\n",
    "            try:\n",
    "                lch_sim = synset1.lch_similarity(synset2)\n",
    "            except:\n",
    "                lch_sim = None\n",
    "            \n",
    "            # Update maximum similarity found\n",
    "            if path_sim is not None and path_sim > max_path_sim:\n",
    "                max_path_sim = path_sim\n",
    "            if wup_sim is not None and wup_sim > max_wup_sim:\n",
    "                max_wup_sim = wup_sim\n",
    "            if lch_sim is not None and lch_sim > max_lch_sim:\n",
    "                max_lch_sim = lch_sim\n",
    "    \n",
    "    return {\n",
    "        'Path Similarity': max_path_sim,\n",
    "        'Wu-Palmer Similarity': max_wup_sim,\n",
    "        'Leacock-Chodorow Similarity': max_lch_sim\n",
    "    }\n",
    "\n",
    "print(calculate_semantic_similarity('king', 'queen'))"
   ]
  },
  {
   "cell_type": "code",
   "execution_count": 17,
   "metadata": {},
   "outputs": [
    {
     "name": "stdout",
     "output_type": "stream",
     "text": [
      "Cosine Similarity: 0.749220609664917\n",
      "Cosine Distance: 0.250779390335083\n"
     ]
    }
   ],
   "source": [
    "import gensim.downloader as api\n",
    "from numpy.linalg import norm\n",
    "import numpy as np\n",
    "\n",
    "# Load pre-trained Word2Vec model from Google News\n",
    "model = api.load('word2vec-google-news-300')\n",
    "\n",
    "# Function to calculate cosine similarity between two vectors\n",
    "def cosine_similarity(vec1, vec2):\n",
    "    return np.dot(vec1, vec2) / (norm(vec1) * norm(vec2))\n",
    "\n",
    "# Function to compute distance between two words using Word2Vec\n",
    "def word2vec_distance(word1, word2, model):\n",
    "    if word1 in model and word2 in model:\n",
    "        vec1 = model[word1]\n",
    "        vec2 = model[word2]\n",
    "        \n",
    "        # Calculate Cosine Similarity\n",
    "        similarity = cosine_similarity(vec1, vec2)\n",
    "        distance = 1 - similarity  # Cosine distance\n",
    "        \n",
    "        return similarity, distance\n",
    "    else:\n",
    "        return f\"One or both words ('{word1}', '{word2}') not found in the Word2Vec model.\"\n",
    "\n",
    "# Example words\n",
    "word1 = 'daddy'\n",
    "word2 = 'dad'\n",
    "\n",
    "# Compute Word2Vec similarity and distance\n",
    "similarity, distance = word2vec_distance(word1, word2, model)\n",
    "print(f\"Cosine Similarity: {similarity}\")\n",
    "print(f\"Cosine Distance: {distance}\")"
   ]
  }
 ],
 "metadata": {
  "kernelspec": {
   "display_name": "wordle",
   "language": "python",
   "name": "python3"
  },
  "language_info": {
   "codemirror_mode": {
    "name": "ipython",
    "version": 3
   },
   "file_extension": ".py",
   "mimetype": "text/x-python",
   "name": "python",
   "nbconvert_exporter": "python",
   "pygments_lexer": "ipython3",
   "version": "3.12.6"
  }
 },
 "nbformat": 4,
 "nbformat_minor": 2
}
