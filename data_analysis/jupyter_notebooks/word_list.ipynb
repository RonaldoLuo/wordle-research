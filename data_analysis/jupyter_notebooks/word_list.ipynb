{
 "cells": [
  {
   "cell_type": "code",
   "execution_count": 20,
   "metadata": {},
   "outputs": [],
   "source": [
    "import pandas as pd\n",
    "import numpy as np\n",
    "import gensim.downloader as api\n",
    "import seaborn as sns\n",
    "from tqdm.notebook import tqdm"
   ]
  },
  {
   "cell_type": "code",
   "execution_count": 21,
   "metadata": {},
   "outputs": [],
   "source": [
    "glove_model = api.load('glove-wiki-gigaword-300')\n",
    "w2v_model = api.load('word2vec-google-news-300')\n",
    "word_list = '/Users/jessica_1/Workspace/Wordle_project/wordle-nyt-answers-alphabetical.txt'\n",
    "\n",
    "# Function to calculate cosine similarity between two vectors\n",
    "def cosine_similarity(a, b):\n",
    "    return np.dot(a, b) / (np.linalg.norm(a) * np.linalg.norm(b))\n",
    "\n",
    "# Function to compute distance between two words using GloVe\n",
    "def glove_distance(word1, word2, model):\n",
    "    if word1 in model and word2 in model:\n",
    "        vec1 = model[word1]\n",
    "        vec2 = model[word2]\n",
    "        \n",
    "        # Calculate Cosine Similarity\n",
    "        similarity = cosine_similarity(vec1, vec2)\n",
    "        distance = 1 - similarity  # Cosine distance\n",
    "\n",
    "        return similarity, distance  # Return if both words are found\n",
    "    else:\n",
    "        # Return None for similarity and distance if words are not found\n",
    "        return None, None"
   ]
  },
  {
   "cell_type": "code",
   "execution_count": null,
   "metadata": {},
   "outputs": [],
   "source": [
    "word_list = '/Users/jessica_1/Workspace/Wordle_project/wordle-nyt-answers-alphabetical.txt'\n",
    "\n",
    "with open(word_list, 'r') as f:\n",
    "    words = f.read().splitlines()\n",
    "\n",
    "test_words = words\n",
    "\n",
    "df_results = pd.DataFrame(columns=['Word1', 'Word2', 'Similarity', 'Distance'])\n",
    "\n",
    "total_comparisons = (len(test_words) * (len(test_words) - 1)) // 2  # Total number of comparisons\n",
    "progress_bar = tqdm(total=total_comparisons, desc=\"Comparing words\", unit=\"comparison\", leave=True, mininterval=0.1, ncols=100)\n",
    "\n",
    "for i in range(len(test_words)):\n",
    "    for j in range(i + 1, len(test_words)):  \n",
    "        word1 = test_words[i]\n",
    "        word2 = test_words[j]\n",
    "        similarity, distance = glove_distance(word1, word2, glove_model)\n",
    "\n",
    "        if similarity is not None: \n",
    "            new_row = pd.DataFrame({\n",
    "                'Word1': [word1],\n",
    "                'Word2': [word2],\n",
    "                'Similarity': [similarity],\n",
    "                'Distance': [distance]\n",
    "            })\n",
    "            # Use pd.concat() to append the new row to df_results\n",
    "            df_results = pd.concat([df_results, new_row], ignore_index=True)\n",
    "        else:\n",
    "            print(f\"One or both words ('{word1}', '{word2}') not found in the GloVe model.\")\n",
    "\n",
    "        progress_bar.update(1)  # Update progress bar after each comparison\n",
    "\n",
    "progress_bar.close()  # Close the progress bar when done"
   ]
  },
  {
   "cell_type": "code",
   "execution_count": null,
   "metadata": {},
   "outputs": [],
   "source": [
    "glove_avg_similarity = df_results['Similarity'].mean()\n",
    "glove_std_similarity = df_results['Similarity'].std()\n",
    "\n",
    "glove_avg_distance = df_results['Distance'].mean()\n",
    "glove_std_distance = df_results['Distance'].std()\n",
    "\n",
    "print(f\"output dataframe: {df_results.shape}\")\n",
    "print(f\"total possible combination of words: {total_comparisons}\")\n",
    "print(f\"number of available pairs: {df_results.shape[0]}\")\n",
    "print(f\"glove average similarity: {glove_avg_similarity}\")\n",
    "print(f\"glove similarity std dev: {glove_std_similarity}\")\n",
    "\n",
    "print(f\"glove average distance: {glove_avg_distance}\")\n",
    "print(f\"glove distance std dev: {glove_std_distance}\")\n",
    "\n",
    "# Display the DataFrame to verify\n",
    "print(df_results.head())"
   ]
  },
  {
   "cell_type": "code",
   "execution_count": 29,
   "metadata": {},
   "outputs": [],
   "source": [
    "import matplotlib.pyplot as plt\n"
   ]
  },
  {
   "cell_type": "code",
   "execution_count": null,
   "metadata": {},
   "outputs": [],
   "source": [
    "plt.figure(figsize=(12, 6))\n",
    "\n",
    "# Plot the similarity distribution\n",
    "plt.subplot(1, 2, 1)  # Create subplots\n",
    "sns.histplot(df_results['Similarity'], kde=True, bins=30)\n",
    "plt.title('Similarity Distribution')\n",
    "plt.xlabel('Similarity')\n",
    "plt.ylabel('Count')\n",
    "\n",
    "# Plot the distance distribution\n",
    "plt.subplot(1, 2, 2)\n",
    "sns.histplot(df_results['Distance'], kde=True, bins=30)\n",
    "plt.title('Distance Distribution')\n",
    "plt.xlabel('Distance')\n",
    "plt.ylabel('Count')\n",
    "\n",
    "# Show the plots\n",
    "plt.tight_layout()  # Adjusts layout to prevent overlapping\n",
    "plt.show()"
   ]
  },
  {
   "cell_type": "code",
   "execution_count": 24,
   "metadata": {},
   "outputs": [],
   "source": [
    "glove_model = api.load('glove-wiki-gigaword-300')\n",
    "w2v_model = api.load('word2vec-google-news-300')\n",
    "word_list = '/Users/jessica_1/Workspace/Wordle_project/wordle-nyt-answers-alphabetical.txt'\n",
    "\n",
    "# Function to calculate cosine similarity between two vectors\n",
    "def cosine_similarity(a, b):\n",
    "    return np.dot(a, b) / (np.linalg.norm(a) * np.linalg.norm(b))\n",
    "\n",
    "# Function to compute distance between two words using GloVe\n",
    "def word2vec_distance(word1, word2, model):\n",
    "    if word1 in model and word2 in model:\n",
    "        vec1 = model[word1]\n",
    "        vec2 = model[word2]\n",
    "        \n",
    "        # Calculate Cosine Similarity\n",
    "        similarity = cosine_similarity(vec1, vec2)\n",
    "        distance = 1 - similarity  # Cosine distance\n",
    "        \n",
    "        return similarity, distance\n",
    "    else:\n",
    "        return None, None "
   ]
  },
  {
   "attachments": {},
   "cell_type": "markdown",
   "metadata": {},
   "source": [
    "---"
   ]
  },
  {
   "cell_type": "code",
   "execution_count": null,
   "metadata": {},
   "outputs": [],
   "source": [
    "word_list = '/Users/jessica_1/Workspace/Wordle_project/wordle-nyt-answers-alphabetical.txt'\n",
    "\n",
    "with open(word_list, 'r') as f:\n",
    "    words = f.read().splitlines()\n",
    "\n",
    "test_words = words\n",
    "\n",
    "w2v_results = pd.DataFrame(columns=['Word1', 'Word2', 'Similarity', 'Distance'])\n",
    "\n",
    "total_comparisons = (len(test_words) * (len(test_words) - 1)) // 2  # Total number of comparisons\n",
    "progress_bar = tqdm(total=total_comparisons, desc=\"Comparing words\", unit=\"comparison\", leave=True, mininterval=0.1, ncols=100)\n",
    "\n",
    "for i in range(len(test_words)):\n",
    "    for j in range(i + 1, len(test_words)):  \n",
    "        word1 = test_words[i]\n",
    "        word2 = test_words[j]\n",
    "        similarity, distance = glove_distance(word1, word2, w2v_model)\n",
    "\n",
    "        if similarity is not None: \n",
    "            new_row = pd.DataFrame({\n",
    "                'Word1': [word1],\n",
    "                'Word2': [word2],\n",
    "                'Similarity': [similarity],\n",
    "                'Distance': [distance]\n",
    "            })\n",
    "            # Use pd.concat() to append the new row to w2v_results\n",
    "            w2v_results = pd.concat([w2v_results, new_row], ignore_index=True)\n",
    "        else:\n",
    "            print(f\"One or both words ('{word1}', '{word2}') not found in the w2v model.\")\n",
    "\n",
    "        progress_bar.update(1)  # Update progress bar after each comparison\n",
    "\n",
    "progress_bar.close()  # Close the progress bar when done"
   ]
  },
  {
   "cell_type": "code",
   "execution_count": null,
   "metadata": {},
   "outputs": [],
   "source": [
    "w2v_avg_similarity = w2v_results['Similarity'].mean()\n",
    "w2v_std_similarity = w2v_results['Similarity'].std()\n",
    "\n",
    "w2v_avg_distance = w2v_results['Distance'].mean()\n",
    "w2v_std_distance = w2v_results['Distance'].std()\n",
    "\n",
    "print(f\"output dataframe: {w2v_results.shape}\")\n",
    "print(f\"total possible combination of words: {total_comparisons}\")\n",
    "print(f\"number of available pairs: {w2v_results.shape[0]}\")\n",
    "print(f\"w2v average similarity: {w2v_avg_similarity}\")\n",
    "print(f\"w2v similarity std dev: {w2v_std_similarity}\")\n",
    "\n",
    "print(f\"w2v average distance: {w2v_avg_distance}\")\n",
    "print(f\"w2v distance std dev: {w2v_std_distance}\")\n",
    "\n",
    "# Display the DataFrame to verify\n",
    "print(w2v_results.head())"
   ]
  },
  {
   "cell_type": "code",
   "execution_count": null,
   "metadata": {},
   "outputs": [],
   "source": [
    "plt.figure(figsize=(12, 6))\n",
    "\n",
    "# Plot the similarity distribution\n",
    "plt.subplot(1, 2, 1)  # Create subplots\n",
    "sns.histplot(w2v_results['Similarity'], kde=True, bins=30)\n",
    "plt.title('w2v Similarity Distribution')\n",
    "plt.xlabel('Similarity')\n",
    "plt.ylabel('Count')\n",
    "\n",
    "# Plot the distance distribution\n",
    "plt.subplot(1, 2, 2)\n",
    "sns.histplot(w2v_results['Distance'], kde=True, bins=30)\n",
    "plt.title('w2v Distance Distribution')\n",
    "plt.xlabel('Distance')\n",
    "plt.ylabel('Count')\n",
    "\n",
    "# Show the plots\n",
    "plt.tight_layout()  # Adjusts layout to prevent overlapping\n",
    "plt.show()"
   ]
  },
  {
   "cell_type": "code",
   "execution_count": 32,
   "metadata": {},
   "outputs": [],
   "source": [
    "df_results.to_pickle('/Users/jessica_1/Workspace/Wordle_project/glove_distance_similarity.pkl')\n",
    "w2v_results.to_pickle('/Users/jessica_1/Workspace/Wordle_project/w2v_distance_similarity.pkl')\n"
   ]
  },
  {
   "cell_type": "code",
   "execution_count": 33,
   "metadata": {},
   "outputs": [],
   "source": [
    "test_w2v = pd.read_pickle('/Users/jessica_1/Workspace/Wordle_project/w2v_distance_similarity.pkl')\n",
    "test_glove = pd.read_pickle('/Users/jessica_1/Workspace/Wordle_project/glove_distance_similarity.pkl')"
   ]
  },
  {
   "cell_type": "code",
   "execution_count": null,
   "metadata": {},
   "outputs": [],
   "source": [
    "print(test_w2v.head())\n",
    "print(test_glove.head())\n"
   ]
  }
 ],
 "metadata": {
  "kernelspec": {
   "display_name": "base",
   "language": "python",
   "name": "python3"
  },
  "language_info": {
   "codemirror_mode": {
    "name": "ipython",
    "version": 3
   },
   "file_extension": ".py",
   "mimetype": "text/x-python",
   "name": "python",
   "nbconvert_exporter": "python",
   "pygments_lexer": "ipython3",
   "version": "3.11.7"
  },
  "orig_nbformat": 4,
  "vscode": {
   "interpreter": {
    "hash": "40d3a090f54c6569ab1632332b64b2c03c39dcf918b08424e98f38b5ae0af88f"
   }
  }
 },
 "nbformat": 4,
 "nbformat_minor": 2
}
